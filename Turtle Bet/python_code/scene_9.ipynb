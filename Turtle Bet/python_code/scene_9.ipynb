{
 "cells": [
  {
   "cell_type": "code",
   "execution_count": null,
   "id": "4f085917-0e4f-4632-a95e-d4d70b288d7f",
   "metadata": {},
   "outputs": [],
   "source": [
    "#FuYang u5578375\n",
    "import import_ipynb\n",
    "from tkinter import *\n",
    "import data\n",
    "from standard_objects import StandardFrame\n",
    "import scene_2\n",
    "import pygame\n",
    " \n",
    "#Define a class named Scene9, which inherits from the StandardFrame class\n",
    "class Scene9(StandardFrame):\n",
    "    def __init__(self, window: Tk):\n",
    "        super().__init__(window)\n",
    "        self.print_frame()\n",
    "        if data.champion != data.player_choice:\n",
    "            self.lose_label = Label(self.frame, bg=\"green\", text=\"YOU LOSE!\", font=(\"Courier\", 100))\n",
    "            self.lose_label.place(x=75, y=150)\n",
    "        else:\n",
    "            self.lose_label = Label(self.frame, bg=\"green\", text=\"YOU WIN!\", font=(\"Courier\", 100))\n",
    "            self.lose_label.place(x=100, y=150)\n",
    " \n",
    "        #Create a label to ask if the player wants to play the game again\n",
    "        self.play_again_label = Label(self.frame, bg=\"green\", text=\"Do you want to play again?\", font=(\"Courier\", 20))\n",
    "        self.play_again_label.place(x=200, y=300)\n",
    "        self.yes_image = PhotoImage(file=\"../yes_no_images/yes.png\")\n",
    "        self.no_image = PhotoImage(file=\"../yes_no_images/no.png\")\n",
    "        self.yes_button = Button(self.frame, image=self.yes_image, highlightthickness=0, command=self.change_to_scene_2)\n",
    "        self.no_button = Button(self.frame, image=self.no_image, highlightthickness=0, command=self.end_program)\n",
    "        self.yes_button.place(x=200, y=350)\n",
    "        self.no_button.place(x=515, y=350)\n",
    " \n",
    "    #End the program\n",
    "    def end_program(self):\n",
    "        self.window.destroy()\n",
    " \n",
    "    #Change to scene 2\n",
    "    def change_to_scene_2(self):\n",
    "        self.frame.destroy()\n",
    "        pygame.mixer_music.fadeout(1000)\n",
    "        self.frame.after(1000, pygame.mixer_music.load(\"../background_music/background_music.mp3\"))\n",
    "        pygame.mixer_music.play()\n",
    "        new_frame = scene_2.Scene2(self.window).frame\n",
    "        new_frame.tkraise()\n",
    "#FuYang u5578375"
   ]
  }
 ],
 "metadata": {
  "kernelspec": {
   "display_name": "Python 3 (ipykernel)",
   "language": "python",
   "name": "python3"
  },
  "language_info": {
   "codemirror_mode": {
    "name": "ipython",
    "version": 3
   },
   "file_extension": ".py",
   "mimetype": "text/x-python",
   "name": "python",
   "nbconvert_exporter": "python",
   "pygments_lexer": "ipython3",
   "version": "3.11.7"
  }
 },
 "nbformat": 4,
 "nbformat_minor": 5
}
