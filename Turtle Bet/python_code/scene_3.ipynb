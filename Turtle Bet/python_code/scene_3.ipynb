{
 "cells": [
  {
   "cell_type": "code",
   "execution_count": null,
   "id": "eb18aaf3-9cc1-4594-93a5-740058f621fb",
   "metadata": {},
   "outputs": [],
   "source": [
    "#SON DUONG (u5575621)\n",
    "\n",
    "import import_ipynb\n",
    "from standard_objects import StandardFrame, StandardTournamentTreeGUI\n",
    "from tkinter import *\n",
    "import scene_4\n",
    "import data\n",
    "import pygame\n",
    "\n",
    "\n",
    "class Scene3(StandardFrame):\n",
    "    def __init__(self, window: Tk):\n",
    "        super().__init__(window)\n",
    "\n",
    "        self.print_frame()\n",
    "\n",
    "        for participant in self.turtle_object_semi_list:\n",
    "            participant.turtle.setheading(90)\n",
    "\n",
    "        #Put the turtles respectively to their position of the semi-final matches\n",
    "        self.tournament_tree_GUI = StandardTournamentTreeGUI(self.frame)\n",
    "        self.tournament_tree_GUI.semi1_turtles[0] = self.turtle_object_semi_list[data.semi1_turtle_indices[0]]\n",
    "        self.tournament_tree_GUI.semi1_turtles[1] = self.turtle_object_semi_list[data.semi1_turtle_indices[1]]\n",
    "        self.tournament_tree_GUI.semi2_turtles[0] = self.turtle_object_semi_list[data.semi2_turtle_indices[0]]\n",
    "        self.tournament_tree_GUI.semi2_turtles[1] = self.turtle_object_semi_list[data.semi2_turtle_indices[1]]\n",
    "        \n",
    "        #Create the labels and print everything\n",
    "        self.head_label = Label(self.frame, text=\"SEMI FINAL\", bg=\"green\", font=(\"Courier\", 30))\n",
    "        self.press_label = Label(self.frame, text=\"(Press any key to start watching your match)\", bg=\"green\", font=(\"Courier\", 15))\n",
    "        self.tournament_tree_GUI.print_tree()\n",
    "        self.head_label.place(x=280, y=0)\n",
    "        self.press_label.place(x=150, y=50)\n",
    "\n",
    "        #Listen to the key press\n",
    "        self.frame.focus_set()\n",
    "        self.frame.bind(\"<Key>\", self.change_to_scene_4)\n",
    "\n",
    "    def change_to_scene_4(self, event):\n",
    "        self.frame.destroy()\n",
    "        pygame.mixer_music.fadeout(1000)\n",
    "        new_frame = scene_4.Scene4(self.window).frame\n",
    "        new_frame.tkraise()\n",
    "\n",
    "#SON DUONG (u5575621)"
   ]
  }
 ],
 "metadata": {
  "kernelspec": {
   "display_name": "Python 3 (ipykernel)",
   "language": "python",
   "name": "python3"
  },
  "language_info": {
   "codemirror_mode": {
    "name": "ipython",
    "version": 3
   },
   "file_extension": ".py",
   "mimetype": "text/x-python",
   "name": "python",
   "nbconvert_exporter": "python",
   "pygments_lexer": "ipython3",
   "version": "3.11.7"
  }
 },
 "nbformat": 4,
 "nbformat_minor": 5
}
