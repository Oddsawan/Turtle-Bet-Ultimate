{
 "cells": [
  {
   "cell_type": "code",
   "execution_count": null,
   "id": "44686bc7-811f-44b7-9c1e-5fe031029990",
   "metadata": {},
   "outputs": [],
   "source": [
    "%%python\n",
    "\n",
    "#SON DUONG (u5575621)\n",
    "\n",
    "import import_ipynb\n",
    "import scene_1\n",
    "from tkinter import *\n",
    "\n",
    "#Create a window\n",
    "window = Tk()\n",
    "\n",
    "#Create the scene 1\n",
    "scene = scene_1.Scene1(window)\n",
    "window.mainloop()\n",
    "\n",
    "#SON DUONG (u5575621)"
   ]
  }
 ],
 "metadata": {
  "kernelspec": {
   "display_name": "Python 3 (ipykernel)",
   "language": "python",
   "name": "python3"
  },
  "language_info": {
   "codemirror_mode": {
    "name": "ipython",
    "version": 3
   },
   "file_extension": ".py",
   "mimetype": "text/x-python",
   "name": "python",
   "nbconvert_exporter": "python",
   "pygments_lexer": "ipython3",
   "version": "3.11.7"
  }
 },
 "nbformat": 4,
 "nbformat_minor": 5
}
