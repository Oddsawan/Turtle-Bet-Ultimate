{
 "cells": [
  {
   "cell_type": "code",
   "execution_count": null,
   "id": "c93a1436-56c9-421c-9f2a-b8c6f547341d",
   "metadata": {},
   "outputs": [],
   "source": [
    "#SON DUONG (u5575621)\n",
    "\n",
    "import import_ipynb\n",
    "import data\n",
    "from standard_objects import StandardFrame\n",
    "from tkinter import *\n",
    "import scene_2\n",
    "import pygame\n",
    "\n",
    "#Play the background music\n",
    "pygame.mixer.init()\n",
    "pygame.mixer_music.load(\"../background_music/background_music.mp3\")\n",
    "pygame.mixer_music.play(loops=-1)\n",
    "\n",
    "\n",
    "class Scene1(StandardFrame):\n",
    "\n",
    "    def __init__(self, window: Tk):\n",
    "        super().__init__(window)\n",
    "        self.print_frame()\n",
    "\n",
    "        #Present the turtles\n",
    "        for index in range(0, 4):\n",
    "            if index < 2:\n",
    "                self.turtle_object_semi_list[index].canvas.place(x=100, y=100 * (index + 1))\n",
    "            else:\n",
    "                self.turtle_object_semi_list[index].canvas.place(x=650, y=100 * (index - 1))\n",
    "\n",
    "            self.turtle_object_semi_list[index].turtle.setheading(90)\n",
    "\n",
    "        #Create and present the labels\n",
    "        self.welcome_label = Label(self.frame, text=\"Welcome to\\nTURTLE BET\", bg=\"green\", font=(\"Courier\", 50))\n",
    "        self.welcome_label.place(x=200, y=100)\n",
    "\n",
    "        self.press_space_label = Label(self.frame, text=\"Press any Key to continue\", bg=\"green\", font=(\"Courier\", 20))\n",
    "        self.press_space_label.place(x=200, y=400)\n",
    "\n",
    "        #Listen to key press to change to scene 2\n",
    "        self.frame.focus_set()\n",
    "        self.frame.bind(\"<Key>\", self.change_to_scene_2)\n",
    "\n",
    "    def change_to_scene_2(self, event):\n",
    "        self.frame.destroy()\n",
    "        new_frame = scene_2.Scene2(self.window).frame\n",
    "        new_frame.tkraise()\n",
    "\n",
    "#SON DUONG (u5575621)\n",
   ]
  }
 ],
 "metadata": {
  "kernelspec": {
   "display_name": "Python 3 (ipykernel)",
   "language": "python",
   "name": "python3"
  },
  "language_info": {
   "codemirror_mode": {
    "name": "ipython",
    "version": 3
   },
   "file_extension": ".py",
   "mimetype": "text/x-python",
   "name": "python",
   "nbconvert_exporter": "python",
   "pygments_lexer": "ipython3",
   "version": "3.11.7"
  }
 },
 "nbformat": 4,
 "nbformat_minor": 5
}
