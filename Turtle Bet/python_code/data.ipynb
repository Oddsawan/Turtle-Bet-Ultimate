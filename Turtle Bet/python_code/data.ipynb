{
 "cells": [
  {
   "cell_type": "code",
   "execution_count": null,
   "id": "523b5afe-053d-4b4a-a9ce-57cf76126f12",
   "metadata": {},
   "outputs": [],
   "source": [
    "#SON DUONG (u5575621)\n",
    "\n",
    "import random\n",
    "\n",
    "#Player's choice (Index of the turtle), set as None, will be changed after the player made their choice\n",
    "player_choice = None\n",
    "\n",
    "#Turtle indices, 0 for Red, 1 for Blue, 2 for Yellow, 3 for Green\n",
    "participants_indices = [0, 1, 2, 3]\n",
    "\n",
    "#Shuffle the indices to create the matches for semi-final \n",
    "shuffled_indices = list(participants_indices)\n",
    "random.shuffle(shuffled_indices)\n",
    "\n",
    "#List of turtles for 2 semi-final matches\n",
    "semi1_turtle_indices = [shuffled_indices[0], shuffled_indices[1]]\n",
    "semi2_turtle_indices = [shuffled_indices[2], shuffled_indices[3]]\n",
    "semi = [semi1_turtle_indices, semi2_turtle_indices]\n",
    "\n",
    "#List of turtles for final match, set as [0, 0], will be changed after having the result of 2 semi-final matches\n",
    "final_turtle_indices = [0, 0]\n",
    "\n",
    "#The champion's index, set as 0, will be changed after having the champion\n",
    "champion = 0\n",
    "\n",
    "#SON DUONG (u5575621)"
   ]
  }
 ],
 "metadata": {
  "kernelspec": {
   "display_name": "Python 3 (ipykernel)",
   "language": "python",
   "name": "python3"
  },
  "language_info": {
   "codemirror_mode": {
    "name": "ipython",
    "version": 3
   },
   "file_extension": ".py",
   "mimetype": "text/x-python",
   "name": "python",
   "nbconvert_exporter": "python",
   "pygments_lexer": "ipython3",
   "version": "3.11.7"
  }
 },
 "nbformat": 4,
 "nbformat_minor": 5
}
