{
 "cells": [
  {
   "cell_type": "code",
   "execution_count": null,
   "id": "2a2df3f1-13cb-4d40-92c4-535d9eadd179",
   "metadata": {},
   "outputs": [],
   "source": [
    "#FuYang u5578375\n",
    "import import_ipynb\n",
    "from tkinter import *\n",
    "from standard_objects import StandardFrame\n",
    "import data\n",
    "import scene_9\n",
    "import pygame\n",
    " \n",
    "#Define a class named Scene8, which inherits from the StandardFrame class\n",
    "class Scene8(StandardFrame):\n",
    "    def __init__(self, window: Tk):\n",
    "        super().__init__(window)\n",
    " \n",
    "        self.print_frame()\n",
    " \n",
    "        #Loop through the range from 0 to 4\n",
    "        for index in range(0, 4):\n",
    "            if data.champion == index:\n",
    "                self.turtle_object_champion_list[index].canvas.config(width=200, height=200)\n",
    "                self.turtle_object_champion_list[index].turtle.goto(x=75, y=-75)\n",
    "                self.turtle_object_champion_list[index].turtle.shapesize(3, 3)\n",
    "                self.turtle_object_champion_list[index].canvas.place(x=300, y=200)\n",
    "                self.turtle_object_champion_list[index].turtle.setheading(90)\n",
    " \n",
    "        self.head_label = Label(self.frame, bg=\"green\", text=\"TOURNAMENT'S\\nCHAMPION\", font=(\"Courier\", 50))\n",
    "        self.press_label = Label(self.frame, text=\"Press any Key to continue\", bg=\"green\", font=(\"Courier\", 15))\n",
    "        self.head_label.place(x=150, y=0)  #Place labels on the frame\n",
    "        self.press_label.place(x=250, y=450)\n",
    "        pygame.mixer_music.load(\"../background_music/victory_background_music.mp3\")  #Load and play victory background music\n",
    "        pygame.mixer_music.play()\n",
    "        self.frame.focus_set()\n",
    "        self.frame.bind(\"<Key>\", self.change_to_scene_9)\n",
    " \n",
    "    #Change to scene 9\n",
    "    def change_to_scene_9(self, event):\n",
    "        self.frame.destroy()\n",
    "        new_frame = scene_9.Scene9(self.window).frame\n",
    "        new_frame.tkraise()\n",
    "#FuYang u5578375"
   ]
  }
 ],
 "metadata": {
  "kernelspec": {
   "display_name": "Python 3 (ipykernel)",
   "language": "python",
   "name": "python3"
  },
  "language_info": {
   "codemirror_mode": {
    "name": "ipython",
    "version": 3
   },
   "file_extension": ".py",
   "mimetype": "text/x-python",
   "name": "python",
   "nbconvert_exporter": "python",
   "pygments_lexer": "ipython3",
   "version": "3.11.7"
  }
 },
 "nbformat": 4,
 "nbformat_minor": 5
}
